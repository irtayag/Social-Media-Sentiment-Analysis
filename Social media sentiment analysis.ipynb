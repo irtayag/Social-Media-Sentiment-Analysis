{
 "cells": [
  {
   "cell_type": "markdown",
   "id": "008156b8",
   "metadata": {},
   "source": [
    "# Data science internship"
   ]
  },
  {
   "cell_type": "markdown",
   "id": "c124c7cb",
   "metadata": {},
   "source": [
    "# Task 2:Social media sentiment analysis"
   ]
  },
  {
   "cell_type": "markdown",
   "id": "d5118341",
   "metadata": {},
   "source": [
    "Name- Gayatri Vivek Ballal"
   ]
  },
  {
   "cell_type": "code",
   "execution_count": 1,
   "id": "db121329",
   "metadata": {},
   "outputs": [],
   "source": [
    "#Importing libraries\n",
    "import pandas as pd\n",
    "from sklearn.model_selection import train_test_split\n",
    "from sklearn.feature_extraction.text import TfidfVectorizer\n",
    "from sklearn.svm import SVC\n",
    "from sklearn.linear_model import LogisticRegression\n",
    "from sklearn.naive_bayes import MultinomialNB\n",
    "from sklearn.metrics import accuracy_score, classification_report"
   ]
  },
  {
   "cell_type": "code",
   "execution_count": 2,
   "id": "a24908bd",
   "metadata": {},
   "outputs": [],
   "source": [
    "#Import the data\n",
    "data = pd.read_csv(\"C:/Users/HP/Desktop/Tweets.csv\")"
   ]
  },
  {
   "cell_type": "code",
   "execution_count": 3,
   "id": "c5b5d484",
   "metadata": {},
   "outputs": [],
   "source": [
    "#Drop the irrelevent columns\n",
    "data = data[[\"airline_sentiment\", \"text\"]]"
   ]
  },
  {
   "cell_type": "code",
   "execution_count": 4,
   "id": "c733c10a",
   "metadata": {},
   "outputs": [],
   "source": [
    "#Handling missing values\n",
    "data.dropna(inplace=True)"
   ]
  },
  {
   "cell_type": "code",
   "execution_count": 5,
   "id": "58af21c8",
   "metadata": {},
   "outputs": [],
   "source": [
    "#Separate features (text) and labels (sentiment)\n",
    "x = data[\"text\"]\n",
    "y = data[\"airline_sentiment\"]"
   ]
  },
  {
   "cell_type": "code",
   "execution_count": 6,
   "id": "0fa3f0d7",
   "metadata": {},
   "outputs": [],
   "source": [
    "#Map sentiment labelling to numerical value\n",
    "sentiment_to_label = {\"negative\": 0, \"neutral\": 1, \"positive\": 2}\n",
    "y = y.map(sentiment_to_label)"
   ]
  },
  {
   "cell_type": "code",
   "execution_count": 7,
   "id": "96868957",
   "metadata": {},
   "outputs": [],
   "source": [
    "#Split the data into train and test set\n",
    "x_train, x_test, y_train, y_test = train_test_split(x, y, test_size=0.2, random_state=42)"
   ]
  },
  {
   "cell_type": "code",
   "execution_count": 8,
   "id": "1e1f46d6",
   "metadata": {},
   "outputs": [],
   "source": [
    "#TF-IDF Vectrization\n",
    "vectorizer = TfidfVectorizer(stop_words=\"english\", max_features=1000)\n",
    "x_train_vectorized = vectorizer.fit_transform(x_train)\n",
    "x_test_vectorized = vectorizer.transform(x_test)"
   ]
  },
  {
   "cell_type": "code",
   "execution_count": 9,
   "id": "54d185c5",
   "metadata": {},
   "outputs": [],
   "source": [
    "#Train and evaluate SVM\n",
    "svm_model = SVC(kernel='linear')\n",
    "svm_model.fit(x_train_vectorized, y_train)\n",
    "y_pred_svm = svm_model.predict(x_test_vectorized)\n",
    "accuracy_svm = accuracy_score(y_test, y_pred_svm)\n",
    "report_svm = classification_report(y_test, y_pred_svm, target_names=list(sentiment_to_label.keys()))"
   ]
  },
  {
   "cell_type": "code",
   "execution_count": 10,
   "id": "3689dd94",
   "metadata": {},
   "outputs": [],
   "source": [
    "#Train and evaluate Logistic Regression\n",
    "logistic_model = LogisticRegression(max_iter=1000)\n",
    "logistic_model.fit(x_train_vectorized, y_train)\n",
    "y_pred_logistic = logistic_model.predict(x_test_vectorized)\n",
    "accuracy_logistic = accuracy_score(y_test, y_pred_logistic)\n",
    "report_logistic = classification_report(y_test, y_pred_logistic, target_names=list(sentiment_to_label.keys()))"
   ]
  },
  {
   "cell_type": "code",
   "execution_count": 11,
   "id": "b4123314",
   "metadata": {},
   "outputs": [],
   "source": [
    "#Train and evaluate Naive Bayes\n",
    "nb_model = MultinomialNB()\n",
    "nb_model.fit(x_train_vectorized, y_train)\n",
    "y_pred_nb = nb_model.predict(x_test_vectorized)\n",
    "accuracy_nb = accuracy_score(y_test, y_pred_nb)\n",
    "report_nb = classification_report(y_test, y_pred_nb, target_names=list(sentiment_to_label.keys()))"
   ]
  },
  {
   "cell_type": "code",
   "execution_count": 12,
   "id": "6694517f",
   "metadata": {},
   "outputs": [
    {
     "name": "stdout",
     "output_type": "stream",
     "text": [
      "SVM Accuracy: 0.7858606557377049\n",
      "SVM Classification Report:\n",
      "               precision    recall  f1-score   support\n",
      "\n",
      "    negative       0.83      0.91      0.87      1889\n",
      "     neutral       0.62      0.47      0.53       580\n",
      "    positive       0.77      0.66      0.71       459\n",
      "\n",
      "    accuracy                           0.79      2928\n",
      "   macro avg       0.74      0.68      0.70      2928\n",
      "weighted avg       0.77      0.79      0.78      2928\n",
      "\n",
      "\n",
      "Logistic Regression Accuracy: 0.7868852459016393\n",
      "Logistic Regression Classification Report:\n",
      "               precision    recall  f1-score   support\n",
      "\n",
      "    negative       0.83      0.92      0.87      1889\n",
      "     neutral       0.61      0.47      0.53       580\n",
      "    positive       0.78      0.64      0.70       459\n",
      "\n",
      "    accuracy                           0.79      2928\n",
      "   macro avg       0.74      0.68      0.70      2928\n",
      "weighted avg       0.78      0.79      0.78      2928\n",
      "\n",
      "\n",
      "Naive Bayes Accuracy: 0.7581967213114754\n",
      "Naive Bayes Classification Report:\n",
      "               precision    recall  f1-score   support\n",
      "\n",
      "    negative       0.76      0.97      0.85      1889\n",
      "     neutral       0.67      0.30      0.42       580\n",
      "    positive       0.84      0.48      0.61       459\n",
      "\n",
      "    accuracy                           0.76      2928\n",
      "   macro avg       0.76      0.58      0.63      2928\n",
      "weighted avg       0.75      0.76      0.73      2928\n",
      "\n"
     ]
    }
   ],
   "source": [
    "# Display results\n",
    "print(\"SVM Accuracy:\", accuracy_svm)\n",
    "print(\"SVM Classification Report:\\n\", report_svm)\n",
    "print(\"\\nLogistic Regression Accuracy:\", accuracy_logistic)\n",
    "print(\"Logistic Regression Classification Report:\\n\", report_logistic)\n",
    "print(\"\\nNaive Bayes Accuracy:\", accuracy_nb)\n",
    "print(\"Naive Bayes Classification Report:\\n\", report_nb)"
   ]
  },
  {
   "cell_type": "markdown",
   "id": "b562acf9",
   "metadata": {},
   "source": [
    "Since accuracy of Logistic regression classifier is greater than svm and naive bayes classifier.So Logistic regression is best fitted model to the data."
   ]
  }
 ],
 "metadata": {
  "kernelspec": {
   "display_name": "Python 3 (ipykernel)",
   "language": "python",
   "name": "python3"
  },
  "language_info": {
   "codemirror_mode": {
    "name": "ipython",
    "version": 3
   },
   "file_extension": ".py",
   "mimetype": "text/x-python",
   "name": "python",
   "nbconvert_exporter": "python",
   "pygments_lexer": "ipython3",
   "version": "3.10.6"
  }
 },
 "nbformat": 4,
 "nbformat_minor": 5
}
